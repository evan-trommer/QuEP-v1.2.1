{
 "cells": [
  {
   "cell_type": "code",
   "execution_count": 231,
   "id": "ff90613e-950c-448b-9f4a-32eda1f31af6",
   "metadata": {},
   "outputs": [],
   "source": [
    "from subprocess import check_call\n",
    "from datetime import datetime\n",
    "import importlib\n",
    "import matplotlib.colors as col\n",
    "import matplotlib.pyplot as plt\n",
    "import matplotlib as mpl\n",
    "import matplotlib.cm as cm\n",
    "import matplotlib.ticker as ticker\n",
    "import math\n",
    "from mpl_toolkits.mplot3d import Axes3D\n",
    "import pdb\n",
    "import pickle\n",
    "from DebugObjectModule import DebugObject\n"
   ]
  },
  {
   "cell_type": "markdown",
   "id": "88f9922d-6939-4e34-b1a1-9a44b5c03586",
   "metadata": {},
   "source": [
    "This file will calculate $x$ at $y=0$ for the single particle for creation of plot for thesis"
   ]
  },
  {
   "cell_type": "markdown",
   "id": "a3b25de9-f97f-4983-b562-bf3cefa8c594",
   "metadata": {},
   "source": [
    "## Set number and Run number"
   ]
  },
  {
   "cell_type": "code",
   "execution_count": 707,
   "id": "cf4bb554-87e8-4e69-91f4-8ec0ae01bd69",
   "metadata": {},
   "outputs": [],
   "source": [
    "set_num = \"06\"\n",
    "Run_num = \"single_arbitrary_eta_\"+\"08\""
   ]
  },
  {
   "cell_type": "markdown",
   "id": "3a2adfa4-abde-4328-9a4f-ed602e09dbda",
   "metadata": {
    "tags": []
   },
   "source": [
    "## Main Code"
   ]
  },
  {
   "cell_type": "code",
   "execution_count": 708,
   "id": "282a0b66-aa7a-44c4-9e71-5f36f70554f6",
   "metadata": {},
   "outputs": [
    {
     "name": "stdout",
     "output_type": "stream",
     "text": [
      "Using initial conditions from  input.thesis.Eta_Plot.single_arbitrary_eta_08\n",
      "<DebugObjectModule.DebugObject object at 0x7fc2dd39f3d0>\n",
      "<class 'DebugObjectModule.DebugObject'>\n",
      "px = 1000\n",
      "pz = 0\n",
      "vx = 0.999999500000375\n",
      "vz = 0.7071066044099185\n",
      "alpha = 1.5707963267948966\n",
      "gamma = 1000.000499999875\n",
      "\n",
      "slope = -0.00012950105233014905, intercept = 0.29999093034933955\n",
      "y = 0 when x = 2316.5134564663213\n",
      "\n",
      "06-08 Copied to clipboard! at 11:50:52\n"
     ]
    },
    {
     "data": {
      "text/plain": [
       "0"
      ]
     },
     "execution_count": 708,
     "metadata": {},
     "output_type": "execute_result"
    },
    {
     "data": {
      "image/png": "[encoded data removed]",
      "text/plain": [
       "<Figure size 432x288 with 1 Axes>"
      ]
     },
     "metadata": {
      "needs_background": "light"
     },
     "output_type": "display_data"
    }
   ],
   "source": [
    "input_fname_1 = str(f\"input.thesis.Eta_Plot.{Run_num}\")\n",
    "print(\"Using initial conditions from \", input_fname_1)\n",
    "init = importlib.import_module(input_fname_1)\n",
    "sim_name = init.simulation_name\n",
    "shape_name = init.shape\n",
    "xden = init.xdensity\n",
    "yden = init.ydensity\n",
    "xiden = init.xidensity\n",
    "res = init.resolution\n",
    "iter = init.iterations\n",
    "mode = init.mode\n",
    "fname = init.fname\n",
    "debugmode = init.debugmode\n",
    "x_c = init.x_c\n",
    "y_c = init.y_c\n",
    "xi_c = init.xi_c\n",
    "px_0 = init.px_0\n",
    "py_0 = init.py_0\n",
    "pz_0 = init.pz_0\n",
    "x_s = init.x_s\n",
    "s1 = init.s1\n",
    "s2 = init.s2\n",
    "\n",
    "# Load data from npz file export from main.py\n",
    "data = np.load(\"./data/\"+set_num+\"/\"+fname) # Change this line as needed\n",
    "x_0 = data['x_init'][0]\n",
    "y_0 = data['y_init'][0]\n",
    "xi_0 = data['xi_init'][0]\n",
    "z_0 = data['z_init'][0]\n",
    "x_f = data['x_dat'][0]\n",
    "y_f = data['y_dat'][0]\n",
    "xi_f = data['xi_dat'][0]\n",
    "z_f = data['z_dat'][0]\n",
    "px_f = data['px_dat'][0]\n",
    "py_f = data['py_dat'][0]\n",
    "pz_f = data['pz_dat'][0]\n",
    "t0 = data['t_dat']\n",
    "\n",
    "file = open(\"./data/\"+set_num+\"/\"+fname[:-4]+\"-DEBUG.obj\", 'rb') \n",
    "debug = pickle.load(file)[0]\n",
    "file.close\n",
    "print(debug)\n",
    "print(type(debug))\n",
    "x_dat = np.squeeze(debug.x_dat)\n",
    "y_dat = np.squeeze(debug.y_dat)\n",
    "z_dat = np.squeeze(debug.z_dat)\n",
    "xi_dat = np.squeeze(debug.xi_dat)\n",
    "Fx_dat = np.squeeze(debug.Fx_dat)\n",
    "Fy_dat = np.squeeze(debug.Fy_dat)\n",
    "Fz_dat = np.squeeze(debug.Fz_dat)\n",
    "px_dat = np.squeeze(debug.px_dat)\n",
    "py_dat = np.squeeze(debug.py_dat)\n",
    "\n",
    "## Beta Calculation\n",
    "\n",
    "def Gamma(p):\n",
    "        return math.sqrt(1.0 + p**2)\n",
    "\n",
    "def Velocity(px,ptot):\n",
    "    # Returns relativistic velocity from momentum\n",
    "    return px / Gamma(ptot)\n",
    "\n",
    "px = px_0\n",
    "py = py_0\n",
    "pz = pz_0\n",
    "p = math.sqrt(px**2 + py**2 + pz**2)\n",
    "vx = Velocity(px, p)\n",
    "\n",
    "if (pz == 0):\n",
    "    alpha = math.atan(math.inf)\n",
    "else:\n",
    "    vx = Velocity(px, p)\n",
    "    vz = Velocity(pz, p)\n",
    "    alpha = math.atan(vx/vz)\n",
    "gamma = math.sqrt(p**2 + 1)\n",
    "\n",
    "print(f\"px = {px}\")\n",
    "print(f\"pz = {pz}\")\n",
    "\n",
    "print(f\"vx = {vx}\")\n",
    "print(f\"vz = {vz}\")\n",
    "print(f\"alpha = {alpha}\")\n",
    "print(f\"gamma = {gamma}\")\n",
    "\n",
    "#Create array for iterations\n",
    "iterations = np.arange(0,len(xi_dat),1)\n",
    "#print(iterations)\n",
    "\n",
    "dt = 0.005 #Timestep in 1/w_p\n",
    "\n",
    "#Create array for times\n",
    "time = iterations*dt\n",
    "#print(time)\n",
    "\n",
    "t=len(x_dat)*dt + 51.9948\n",
    "\n",
    "fig1, ax1 = plt.subplots(1)\n",
    "ax1.set_xlabel(r\"$x$ ($c/\\omega_p$)\")\n",
    "ax1.set_ylabel(r\"$y$ ($c/\\omega_p$)\")\n",
    "ax1.set_title(f\"Electron Trajectories through Blowout Regime \\n\"+r\"$\\alpha=$\"+f\"{alpha}\")\n",
    "ax1.ticklabel_format(style='plain', axis='y',useOffset=False)\n",
    "\n",
    "for i in range(0, 1):\n",
    "    ax1.plot(x_dat[:], y_dat[:],  'k', label='$time-Xi Trajectory') # Want vertical axis as y\n",
    "\n",
    "fig1.tight_layout()\n",
    "fig1.savefig(\"Group_Velocity_Verification_\"+fname[:-4]+\".png\", transparent=False)\n",
    "\n",
    "slope = (y_dat[-1]-y_dat[-2])/(x_dat[-1]-x_dat[-2])\n",
    "intercept = y_dat[-1]-(slope*x_dat[-1])\n",
    "\n",
    "print(f\"\\nslope = {slope}, intercept = {intercept}\")\n",
    "\n",
    "root = ((-1.)*(intercept))/(slope)\n",
    "print(f\"y = 0 when x = {root}\\n\")\n",
    "\n",
    "root = str(root)\n",
    "\n",
    "def copy2clip(txt):\n",
    "    cmd='echo '+txt.strip()+'|pbcopy'\n",
    "    now = datetime.now()\n",
    "    current_time = now.strftime(\"%I:%M:%S\")\n",
    "    print(set_num+\"-\"+Run_num[-2:]+\" Copied to clipboard! at \"+current_time)\n",
    "    return check_call(cmd, shell=True)\n",
    "\n",
    "copy2clip(root)"
   ]
  },
  {
   "cell_type": "code",
   "execution_count": 709,
   "id": "ade099be-b836-4ac1-803b-db2859ac55c2",
   "metadata": {},
   "outputs": [
    {
     "data": {
      "image/png": "[encoded data removed]",
      "text/plain": [
       "<Figure size 432x288 with 1 Axes>"
      ]
     },
     "metadata": {
      "needs_background": "light"
     },
     "output_type": "display_data"
    }
   ],
   "source": [
    "fig2, ax2 = plt.subplots(1)\n",
    "ax2.set_xlabel(r\"$z$ ($c/\\omega_p$)\")\n",
    "ax2.set_ylabel(r\"$x$ ($c/\\omega_p$)\")\n",
    "ax2.set_title(f\"Electron Trajectories through Blowout Regime \\n\"+r\"$\\alpha=$\"+f\"{alpha}\")\n",
    "ax2.ticklabel_format(style='plain', axis='y',useOffset=False)\n",
    "\n",
    "ax2.plot(z_dat, x_dat,  'k', label='$time-Xi Trajectory') # Want vertical axis as y\n",
    "\n",
    "fig2.tight_layout()"
   ]
  },
  {
   "cell_type": "code",
   "execution_count": null,
   "id": "864c5920-4ece-4bf4-97f1-c5abb8c6ce41",
   "metadata": {},
   "outputs": [],
   "source": []
  },
  {
   "cell_type": "code",
   "execution_count": null,
   "id": "53d4add4-1b86-4bda-810e-2aa303708720",
   "metadata": {},
   "outputs": [],
   "source": []
  },
  {
   "cell_type": "code",
   "execution_count": null,
   "id": "1d408a2c-a3d4-4dfe-b322-de2c9a9b53ea",
   "metadata": {},
   "outputs": [],
   "source": []
  }
 ],
 "metadata": {
  "kernelspec": {
   "display_name": "Python 3 (ipykernel)",
   "language": "python",
   "name": "python3"
  },
  "language_info": {
   "codemirror_mode": {
    "name": "ipython",
    "version": 3
   },
   "file_extension": ".py",
   "mimetype": "text/x-python",
   "name": "python",
   "nbconvert_exporter": "python",
   "pygments_lexer": "ipython3",
   "version": "3.9.7"
  }
 },
 "nbformat": 4,
 "nbformat_minor": 5
}
