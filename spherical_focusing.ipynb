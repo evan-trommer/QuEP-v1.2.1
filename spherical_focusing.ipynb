{
 "cells": [
  {
   "attachments": {},
   "cell_type": "markdown",
   "metadata": {},
   "source": [
    "# This file was created to plot the focal lengths of an electron moving transversely through the simulated wakefield (the OSIRIS 1e15 fields).\n",
    "### Here, we assume that in the region which the electrons move through the wake, the wake can be modeled as having a spherical shape. (As you'll see below, this may not be correct.)"
   ]
  },
  {
   "cell_type": "code",
   "execution_count": 4,
   "metadata": {},
   "outputs": [
    {
     "ename": "LoadError",
     "evalue": "ArgumentError: Package numpy not found in current path.\n- Run `import Pkg; Pkg.add(\"numpy\")` to install the numpy package.",
     "output_type": "error",
     "traceback": [
      "ArgumentError: Package numpy not found in current path.\n- Run `import Pkg; Pkg.add(\"numpy\")` to install the numpy package.",
      "",
      "Stacktrace:",
      " [1] macro expansion",
      "   @ ./loading.jl:1163 [inlined]",
      " [2] macro expansion",
      "   @ ./lock.jl:223 [inlined]",
      " [3] require(into::Module, mod::Symbol)",
      "   @ Base ./loading.jl:1144",
      " [4] eval",
      "   @ ./boot.jl:368 [inlined]",
      " [5] include_string(mapexpr::typeof(REPL.softscope), mod::Module, code::String, filename::String)",
      "   @ Base ./loading.jl:1428"
     ]
    }
   ],
   "source": [
    "import numpy as np\n",
    "import math as m\n",
    "import matplotlib.colors as col\n",
    "import matplotlib.pyplot as plt\n",
    "import matplotlib as mpl\n",
    "import matplotlib.cm as cm\n",
    "import matplotlib.ticker as ticker\n",
    "import pdb\n",
    "import time\n",
    "import progressbar\n",
    "import include.simulations.useQuasi3D as sim\n",
    "\n",
    "#comment out this if you don't care about font style and want the code to run faster\n",
    "from matplotlib import rc\n",
    "rc('font', **{'family': 'serif', 'serif': ['Computer Modern']})\n",
    "rc('text', usetex=True)"
   ]
  },
  {
   "attachments": {},
   "cell_type": "markdown",
   "metadata": {},
   "source": [
    "### Marisa found the focal length formaula to be \n",
    "$$ f(y_0) = \\frac{p^2}{2\\gamma mkr_b}\\left( 1-\\left(\\frac{y_0}{r_b}\\right)^2 \\right)^{-1/2} $$\n",
    "\n",
    "### The formula for an electron's focal length moving transversely through a spherical wake is complicated (see my thesis), but for the case where the electron moves through the center of the wake, it's focal length is  \n",
    "$$ f(y_0) = \\frac{p^2}{\\sqrt{2}\\gamma mkr_b}\\left( 1-\\left(\\frac{y_0}{r_b}\\right)^2 \\right)^{-1/2} $$"
   ]
  },
  {
   "cell_type": "code",
   "execution_count": 15,
   "metadata": {},
   "outputs": [
    {
     "name": "stdout",
     "output_type": "stream",
     "text": [
      "30.192743589743586 60.38548717948717\n",
      "181.70568295878726 256.9706412005827\n"
     ]
    }
   ],
   "source": [
    "P = 110 \n",
    "Vx = 0.99996\n",
    "K = 0.468 \n",
    "Rb_max = 0.65\n",
    "\n",
    "f0 = P*Vx/(2*K*Rb_max) #constant in front of y0/rb term in Marisa's EQ\n",
    "\n",
    "f1 = P*Vx/(K*Rb_max) #constant in front of y0/rb term in my EQ\n",
    "\n",
    "#c/wp to mm\n",
    "unit_conversion = 0.167\n",
    "\n",
    "#Marisa's eq\n",
    "def old_f(y):\n",
    "    \n",
    "    f = f0/(np.sqrt(1-(y)**2))\n",
    "    \n",
    "    return f\n",
    "    \n",
    "#spherical focal eq\n",
    "def new_f(y):\n",
    "    \n",
    "    f = f1/(np.sqrt(2 - 2*(y)**2))\n",
    "    \n",
    "    return f\n",
    "    \n",
    "print(f0*unit_conversion, f1*unit_conversion)\n",
    "\n",
    "print(old_f(0.1), new_f(0.1))"
   ]
  },
  {
   "cell_type": "code",
   "execution_count": 2,
   "metadata": {},
   "outputs": [
    {
     "ename": "LoadError",
     "evalue": "UndefVarError: np not defined",
     "output_type": "error",
     "traceback": [
      "UndefVarError: np not defined",
      "",
      "Stacktrace:",
      " [1] top-level scope",
      "   @ In[2]:1",
      " [2] eval",
      "   @ ./boot.jl:368 [inlined]",
      " [3] include_string(mapexpr::typeof(REPL.softscope), mod::Module, code::String, filename::String)",
      "   @ Base ./loading.jl:1428"
     ]
    }
   ],
   "source": [
    "heights = np.array([0,0.05,0.10,0.15,0.20,0.25,0.30,0.35,0.40,0.45,0.50,0.55,0.60,0.64])\n",
    "\n",
    "measured_f = np.array([168,170,172,176,179,182,189,199,208,223,245,279,340,456])*unit_conversion"
   ]
  },
  {
   "cell_type": "code",
   "execution_count": 17,
   "metadata": {},
   "outputs": [
    {
     "name": "stdout",
     "output_type": "stream",
     "text": [
      "[0.         0.07692308 0.15384615 0.23076923 0.30769231 0.38461538\n",
      " 0.46153846 0.53846154 0.61538462 0.69230769 0.76923077 0.84615385\n",
      " 0.92307692 0.98461538]\n",
      "[ 30.19274359  30.28246962  30.55652471  31.03029753  31.7322024\n",
      "  32.70880556  34.03455767  35.83070126  38.30463087  41.84124465\n",
      "  47.25212952  56.65331308  78.50113333 172.79098498]\n",
      "[ 42.69898747  42.82587924  43.21345166  43.88346761  44.876111\n",
      "  46.25723643  48.13213304  50.67226368  54.17092848  59.17245566\n",
      "  66.82460242  80.11988371 111.01736742 244.36335441]\n"
     ]
    }
   ],
   "source": [
    "heights = np.divide(heights, Rb_max)\n",
    "\n",
    "new_theory = new_f(heights)*unit_conversion\n",
    "old_theory = old_f(heights)*unit_conversion\n",
    "\n",
    "#old_theory = old_theory/Rb_max\n",
    "\n",
    "#print(heights)\n",
    "#print(old_theory)\n",
    "#print(new_theory)"
   ]
  },
  {
   "cell_type": "code",
   "execution_count": 20,
   "metadata": {},
   "outputs": [
    {
     "data": {
      "image/png": "[encoded data removed]",
      "text/plain": [
       "<Figure size 432x288 with 1 Axes>"
      ]
     },
     "metadata": {
      "needs_background": "light"
     },
     "output_type": "display_data"
    }
   ],
   "source": [
    "\n",
    "plt.xlabel(r\"$y_0/r_b$\", size = 12) \n",
    "plt.ylabel(r\"Electron Focal Length $f$ (mm)\", size = 12)\n",
    "plt.title(\"Focal Length For a Spherical Wakefield vs. Height\", size = 14)\n",
    "plt.ylim(20,200)\n",
    "plt.plot(heights, new_theory, '-b', lw = 1.5, label = r'Spherical Model')\n",
    "plt.plot(heights, measured_f, 'ok', markersize = 2.5, label = \"Measurements\")\n",
    "plt.plot(heights, old_theory, '--r', label = \"Cylindrical Model\")\n",
    "plt.legend()\n",
    "plt.savefig(\"new-focal-test.png\", dpi=300)"
   ]
  }
 ],
 "metadata": {
  "kernelspec": {
   "display_name": "Julia 1.8.3",
   "language": "julia",
   "name": "julia-1.8"
  },
  "language_info": {
   "file_extension": ".jl",
   "mimetype": "application/julia",
   "name": "julia",
   "version": "1.8.3"
  }
 },
 "nbformat": 4,
 "nbformat_minor": 2
}
