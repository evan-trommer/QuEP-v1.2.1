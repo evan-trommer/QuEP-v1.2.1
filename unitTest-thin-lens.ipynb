{
 "cells": [
  {
   "cell_type": "code",
   "execution_count": 14,
   "id": "f6f1012e-0957-4b2b-921a-fb1057f0f0ae",
   "metadata": {},
   "outputs": [],
   "source": [
    "import numpy as np\n",
    "import math"
   ]
  },
  {
   "cell_type": "code",
   "execution_count": 15,
   "id": "6f937813-6815-4164-bdc1-0a80530e9f4e",
   "metadata": {},
   "outputs": [
    {
     "name": "stdout",
     "output_type": "stream",
     "text": [
      "vx=0.11\n",
      "xp=4.7934851621758465\n"
     ]
    }
   ],
   "source": [
    "# Initial Conditions\n",
    "px = 110\n",
    "vx = px/1000\n",
    "print(f\"vx={vx}\")\n",
    "rb = 4.8          #This I am most unsure about\n",
    "y0 = 0.25 \n",
    "xp = np.sqrt(rb**2-y0**2)\n",
    "print(f\"xp={xp}\")\n",
    "k = 0.215 #Based on plot fitting"
   ]
  },
  {
   "cell_type": "code",
   "execution_count": 16,
   "id": "037c10c8-4337-426a-8601-e73531ba5570",
   "metadata": {},
   "outputs": [
    {
     "name": "stdout",
     "output_type": "stream",
     "text": [
      "Expected Focal Length f=5.870370707676897\n"
     ]
    }
   ],
   "source": [
    "f = (px*vx)/(2*xp*k)\n",
    "print(f\"Expected Focal Length f={f}\")"
   ]
  },
  {
   "cell_type": "markdown",
   "id": "bceeee5f-5d12-4b6b-bd84-7fcda0a8c031",
   "metadata": {},
   "source": [
    "Simulated Focal length: 5.85"
   ]
  },
  {
   "cell_type": "code",
   "execution_count": 18,
   "id": "d2297868-1cd6-4dc8-a611-eba526393a9b",
   "metadata": {},
   "outputs": [
    {
     "name": "stdout",
     "output_type": "stream",
     "text": [
      "Expected Fy=0.05375\n"
     ]
    }
   ],
   "source": [
    "Fy_calc = k*y0\n",
    "print(f\"Expected Fy={Fy_calc}\")"
   ]
  },
  {
   "cell_type": "code",
   "execution_count": 19,
   "id": "4f672b56-4f55-4b7b-9d6a-a1da9757968d",
   "metadata": {},
   "outputs": [
    {
     "name": "stdout",
     "output_type": "stream",
     "text": [
      "Simulated Fy=0.0875\n"
     ]
    }
   ],
   "source": [
    "Fy_sim = 0.35*y0 # This is a guess for k based on Fy_sim\n",
    "print(f\"Simulated Fy={Fy_sim}\")"
   ]
  },
  {
   "cell_type": "code",
   "execution_count": 20,
   "id": "76b33e19-1086-4d23-8768-9fed9dc566db",
   "metadata": {},
   "outputs": [],
   "source": [
    "deltaT=2*xp/vx"
   ]
  },
  {
   "cell_type": "code",
   "execution_count": 21,
   "id": "23698a5c-7c87-42a6-87b8-59e1bb3c825a",
   "metadata": {},
   "outputs": [
    {
     "name": "stdout",
     "output_type": "stream",
     "text": [
      "py expected=4.684542317580941\n"
     ]
    }
   ],
   "source": [
    "py_calc = Fy_calc*deltaT\n",
    "print(f\"py expected={py_calc}\")"
   ]
  },
  {
   "cell_type": "code",
   "execution_count": 22,
   "id": "94270ba4-6b7d-4b77-adfe-f0364c6ddd08",
   "metadata": {},
   "outputs": [],
   "source": [
    "# HOW DOES THIS CHANGE FOR c =/= g"
   ]
  },
  {
   "cell_type": "markdown",
   "id": "6a29d431-09e0-4246-8c34-b0a1090b3413",
   "metadata": {},
   "source": [
    "c $\\neq$ g"
   ]
  },
  {
   "cell_type": "code",
   "execution_count": 23,
   "id": "882000f8-48b9-4654-8695-afd6124fb4e9",
   "metadata": {},
   "outputs": [
    {
     "name": "stdout",
     "output_type": "stream",
     "text": [
      "vx=0.11\n",
      "xp=4.7934851621758465\n"
     ]
    }
   ],
   "source": [
    "# Initial Conditions\n",
    "px = 110\n",
    "vx = px/1000\n",
    "print(f\"vx={vx}\")\n",
    "rb = 4.8          #This I am most unsure about\n",
    "y0 = 0.25 \n",
    "xp = np.sqrt(rb**2-y0**2)\n",
    "print(f\"xp={xp}\")\n",
    "k = 0.215 #Based on plot fitting"
   ]
  },
  {
   "cell_type": "code",
   "execution_count": 24,
   "id": "9abd8566-554e-4e7a-87d0-928b0675313f",
   "metadata": {},
   "outputs": [
    {
     "name": "stdout",
     "output_type": "stream",
     "text": [
      "Expected Focal Length f=5.870370707676897\n"
     ]
    }
   ],
   "source": [
    "f = (px*vx)/(2*xp*k)\n",
    "print(f\"Expected Focal Length f={f}\")"
   ]
  },
  {
   "cell_type": "markdown",
   "id": "4cabe3a5-fed0-48e3-a5d9-d058c9dba914",
   "metadata": {},
   "source": [
    "Simulated Focal length: 5.92"
   ]
  },
  {
   "cell_type": "code",
   "execution_count": 25,
   "id": "d58d8ee2-9492-4402-be4d-a19422518118",
   "metadata": {},
   "outputs": [
    {
     "name": "stdout",
     "output_type": "stream",
     "text": [
      "Expected Fy=0.05375\n"
     ]
    }
   ],
   "source": [
    "Fy_calc = k*y0\n",
    "print(f\"Expected Fy={Fy_calc}\")"
   ]
  },
  {
   "cell_type": "code",
   "execution_count": 29,
   "id": "ff81141b-f9b7-4372-a1d5-925f44803aa5",
   "metadata": {},
   "outputs": [
    {
     "name": "stdout",
     "output_type": "stream",
     "text": [
      "Simulated Fy=0.085\n"
     ]
    }
   ],
   "source": [
    "Fy_sim = 0.34*y0 # This is a guess for k based on Fy_sim\n",
    "print(f\"Simulated Fy={Fy_sim}\")"
   ]
  },
  {
   "cell_type": "code",
   "execution_count": 27,
   "id": "d35529be-b5e9-4769-8591-b18e175f3f4a",
   "metadata": {},
   "outputs": [],
   "source": [
    "deltaT=2*xp/vx"
   ]
  },
  {
   "cell_type": "code",
   "execution_count": 28,
   "id": "92431519-73a0-44fb-bbf2-1ad472d803c0",
   "metadata": {},
   "outputs": [
    {
     "name": "stdout",
     "output_type": "stream",
     "text": [
      "py expected=4.684542317580941\n"
     ]
    }
   ],
   "source": [
    "py_calc = Fy_calc*deltaT\n",
    "print(f\"py expected={py_calc}\")"
   ]
  },
  {
   "cell_type": "code",
   "execution_count": null,
   "id": "a96c02f4-2b68-4a3c-bb16-95a0c40ce218",
   "metadata": {},
   "outputs": [],
   "source": [
    "# HOW DOES THIS CHANGE FOR c =/= g"
   ]
  }
 ],
 "metadata": {
  "kernelspec": {
   "display_name": "Python 3",
   "language": "python",
   "name": "python3"
  },
  "language_info": {
   "codemirror_mode": {
    "name": "ipython",
    "version": 3
   },
   "file_extension": ".py",
   "mimetype": "text/x-python",
   "name": "python",
   "nbconvert_exporter": "python",
   "pygments_lexer": "ipython3",
   "version": "3.8.8"
  }
 },
 "nbformat": 4,
 "nbformat_minor": 5
}
