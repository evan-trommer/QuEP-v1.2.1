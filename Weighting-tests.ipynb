{
 "cells": [
  {
   "cell_type": "code",
   "execution_count": 9,
   "id": "71ee13be-9829-4eb1-a94c-4b717026de2f",
   "metadata": {},
   "outputs": [],
   "source": [
    "# index.py can be used to propagate objects after simulation through fields in main.py\n",
    "# Available features include weighting of particles and masking of regions\n",
    "\n",
    "# Include file imports\n",
    "import sys\n",
    "import time\n",
    "import importlib\n",
    "import numpy as np\n",
    "import include.plot2DTracks as plot2D\n",
    "import include.plot3DTracks as plot3D\n",
    "import include.showQuickEvolution as showEvol_Q\n",
    "import include.showFullEvolution as showEvol_F\n",
    "import include.makeFullAnimation as makeFullAni\n",
    "import include.viewProbe as viewProbe\n",
    "import include.writeFullEvolData as writeHist\n",
    "import include.weighting_masks_function as weightmaskFunc\n",
    "import include.plotWeights as plotWeights\n",
    "import multiprocessing as mp\n",
    "import include.movieWriter as movieWriter\n",
    "import tqdm\n",
    "import math\n",
    "import scipy.stats as stats\n",
    "import scipy.integrate as integrate\n",
    "import numpy as np\n",
    "import matplotlib.colors as col\n",
    "import matplotlib.pyplot as plt\n",
    "import matplotlib as mpl\n",
    "import matplotlib.cm as cm\n",
    "import matplotlib.ticker as ticker\n",
    "from mpl_toolkits.mplot3d import Axes3D\n",
    "import pdb\n",
    "%matplotlib inline\n",
    "\n",
    "# Be sure to change .npz file name location from main.py output!\n",
    "\n",
    "# Weighting Options (Only applicable for showFullEvolution plot):\n",
    "useWeights_x = True                 # Use weights in x-direction\n",
    "useWeights_y = True                 # Use weights in y-direction\n",
    "singleLayerBeam = False             # Use beam with thickness xden=1 in x-direction\n",
    "\n",
    "skipWeightingCalc = False            # Skip weighting calculation and use imported pre-calculated weights\n",
    "saveWeights = True                 # Save weights to .npz file (Remember to move to ./data directory!)\n",
    "\n",
    "# Masking Options:\n",
    "useMasks_xi = False                 # Use masks in xi-direction (Vertical; done during weighting)\n",
    "useMasks_y = False                  # Use masks in y-direction (Horizontal; done during weighting)\n",
    "\n",
    "# Plotting Scripts\n",
    "plot2DTracks = False                 # View 2D projections of trajectories\n",
    "showQuickEvolution = False           # View evolution of probe after leaving plasma at inputted x_s in scatter plots # Use for low density probes\n",
    "showFullEvolution = False             # View full evolution of probe at hardcoded locations in colored histograms # Use for high density probes\n",
    "makeFullAnimation = True\n",
    "writeHistData = False\n",
    "plotWeightsy = False                  # Plot w_x vs xi\n",
    "plotWeightsx = False                  # Plot w_y vs y"
   ]
  },
  {
   "cell_type": "code",
   "execution_count": 10,
   "id": "4ab6cca4-2c5e-4044-8ec2-467c3886e0fa",
   "metadata": {},
   "outputs": [],
   "source": [
    "# Load data from npz file export from main.py\n",
    "data = np.load('./data/' + '36-50__xwid-1__0-002__01.npz') # Change this line as needed\n",
    "x_0 = data['x_init']\n",
    "y_0 = data['y_init']\n",
    "xi_0 = data['xi_init']\n",
    "z_0 = data['z_init']\n",
    "x_f = data['x_dat']\n",
    "y_f = data['y_dat']\n",
    "xi_f = data['xi_dat']\n",
    "z_f = data['z_dat']\n",
    "px_f = data['px_dat']\n",
    "py_f = data['py_dat']\n",
    "pz_f = data['pz_dat']\n",
    "t0 = data['t_dat']\n",
    "\n",
    "data2 = np.load('./data/' + '36-50__xwid-1__0-002__01-weights.npz') # Change this line as needed\n",
    "w = data2['w']"
   ]
  },
  {
   "cell_type": "code",
   "execution_count": 11,
   "id": "6f03243f-f49b-4b54-bbaa-deba8c6b1870",
   "metadata": {},
   "outputs": [
    {
     "data": {
      "text/plain": [
       "6500000"
      ]
     },
     "execution_count": 11,
     "metadata": {},
     "output_type": "execute_result"
    }
   ],
   "source": [
    "len(w)"
   ]
  },
  {
   "cell_type": "code",
   "execution_count": 13,
   "id": "d1d4109a-97ee-4832-9bc8-7bafd71ee81e",
   "metadata": {},
   "outputs": [
    {
     "data": {
      "image/png": "[encoded data removed]",
      "text/plain": [
       "<Figure size 432x288 with 1 Axes>"
      ]
     },
     "metadata": {
      "needs_background": "light"
     },
     "output_type": "display_data"
    }
   ],
   "source": [
    "fig1 = plt.figure()\n",
    "ax1 = fig1.add_subplot(111)\n",
    "\n",
    "#ax1.set_ylim([125.3, 125.4])\n",
    "ax1.set_xlabel(\"xi_0 ($c/\\omega_p$)\")\n",
    "ax1.set_ylabel(\"w\")\n",
    "ax1.set_title(\"Weighting viewing xi-direction\")\n",
    "start = 0\n",
    "xiden_ = 6500\n",
    "ax1.plot(xi_0[xiden_*499:xiden_*500],w[xiden_*499:xiden_*500],\"o\",label=\"weighting_function\",alpha=0.7,markevery=3)\n",
    "ax1.plot(xi_0[xiden_*499+499:xiden_*500-499],w[xiden_*499+499:xiden_*500-499],\"o\",label=\"weighting_function\",alpha=0.7,markevery=3)\n",
    "fig1.savefig('w_xi-direction.jpg',dpi=600,transparent=False)"
   ]
  },
  {
   "cell_type": "code",
   "execution_count": 19,
   "id": "03b0416c-2d3c-4cde-96fb-5a66b7aff207",
   "metadata": {},
   "outputs": [
    {
     "data": {
      "image/png": "[encoded data removed]",
      "text/plain": [
       "<Figure size 432x288 with 1 Axes>"
      ]
     },
     "metadata": {
      "needs_background": "light"
     },
     "output_type": "display_data"
    }
   ],
   "source": [
    "fig2 = plt.figure()\n",
    "ax2 = fig2.add_subplot(111)\n",
    "\n",
    "#ax2.set_ylim([125.3, 125.4])\n",
    "ax2.set_xlabel(\"y_0 ($c/\\omega_p$)\")\n",
    "ax2.set_ylabel(\"w\")\n",
    "ax2.set_title(\"Weighting viewing y-direction\")\n",
    "start = 0\n",
    "xiden_ = 6500\n",
    "ylayer = np.arange(0,len(y_0),xiden_)\n",
    "ax2.plot(y_0[3000:len(y_0):xiden_],w[3000:len(y_0):xiden_],\"o\",label=\"weighting_function\",alpha=0.7,markevery=3)\n",
    "#ax2.plot(y_0[xiden_*499:xiden_*600],w[xiden_*499:xiden_*600],\"o\",label=\"weighting_function\",alpha=0.7,markevery=3)\n",
    "fig2.savefig('w_y-direction.jpg',dpi=600,transparent=False)\n"
   ]
  },
  {
   "cell_type": "code",
   "execution_count": 6,
   "id": "de5699ec-2bc9-496d-98c3-df030e7c7616",
   "metadata": {},
   "outputs": [
    {
     "name": "stdout",
     "output_type": "stream",
     "text": [
      "[2.9 2.9 2.9 ... 2.9 2.9 2.9]\n"
     ]
    }
   ],
   "source": [
    "print(1-x_0)"
   ]
  },
  {
   "cell_type": "code",
   "execution_count": null,
   "id": "15e5d8da-4289-4b99-953b-64b792887b6a",
   "metadata": {},
   "outputs": [],
   "source": []
  }
 ],
 "metadata": {
  "kernelspec": {
   "display_name": "Python 3 (ipykernel)",
   "language": "python",
   "name": "python3"
  },
  "language_info": {
   "codemirror_mode": {
    "name": "ipython",
    "version": 3
   },
   "file_extension": ".py",
   "mimetype": "text/x-python",
   "name": "python",
   "nbconvert_exporter": "python",
   "pygments_lexer": "ipython3",
   "version": "3.9.7"
  }
 },
 "nbformat": 4,
 "nbformat_minor": 5
}
